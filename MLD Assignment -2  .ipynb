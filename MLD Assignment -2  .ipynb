{
 "cells": [
  {
   "cell_type": "markdown",
   "metadata": {},
   "source": [
    " ## ASSIGNMENT - 2 "
   ]
  },
  {
   "cell_type": "code",
   "execution_count": 2,
   "metadata": {},
   "outputs": [
    {
     "name": "stdout",
     "output_type": "stream",
     "text": [
      "The your Nameineuron\n"
     ]
    },
    {
     "data": {
      "text/plain": [
       "'norueni'"
      ]
     },
     "execution_count": 2,
     "metadata": {},
     "output_type": "execute_result"
    }
   ],
   "source": [
    "Name = str(input(prompt = \"The your Name\"))\n",
    "Name[::-1]           "
   ]
  },
  {
   "cell_type": "code",
   "execution_count": 161,
   "metadata": {},
   "outputs": [],
   "source": [
    " #1. Create the below pattern using nested for loop in Python.    "
   ]
  },
  {
   "cell_type": "code",
   "execution_count": 160,
   "metadata": {},
   "outputs": [
    {
     "name": "stdout",
     "output_type": "stream",
     "text": [
      "* \t\n",
      "* * \t\n",
      "* * * \t\n",
      "* * * * \t\n",
      "* * * * * \t\n",
      "* * * * \t\n",
      "* * * \t\n",
      "* * \t\n",
      "* \t\n",
      "\t\n"
     ]
    }
   ],
   "source": [
    "num = 5\n",
    "for i in range(0,num):\n",
    "    for j in range(0, i + 1):\n",
    "        print(\"*\", end=' ')\n",
    "    print(\"\\t\")\n",
    "    \n",
    "for i in range(num,0,-1):\n",
    "    for j in range(0,i-1):\n",
    "        print(\"*\", end=' ')\n",
    "    print(\"\\t\")"
   ]
  }
 ],
 "metadata": {
  "kernelspec": {
   "display_name": "Python 3",
   "language": "python",
   "name": "python3"
  },
  "language_info": {
   "codemirror_mode": {
    "name": "ipython",
    "version": 3
   },
   "file_extension": ".py",
   "mimetype": "text/x-python",
   "name": "python",
   "nbconvert_exporter": "python",
   "pygments_lexer": "ipython3",
   "version": "3.7.1"
  }
 },
 "nbformat": 4,
 "nbformat_minor": 2
}
